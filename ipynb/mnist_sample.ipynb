{
 "cells": [
  {
   "cell_type": "code",
   "execution_count": 1,
   "id": "f4b3dd72",
   "metadata": {},
   "outputs": [
    {
     "name": "stderr",
     "output_type": "stream",
     "text": [
      "2024-10-23 09:42:45.273435: I tensorflow/core/platform/cpu_feature_guard.cc:182] This TensorFlow binary is optimized to use available CPU instructions in performance-critical operations.\n",
      "To enable the following instructions: AVX2 FMA, in other operations, rebuild TensorFlow with the appropriate compiler flags.\n"
     ]
    },
    {
     "name": "stdout",
     "output_type": "stream",
     "text": [
      "Downloading data from https://storage.googleapis.com/tensorflow/tf-keras-datasets/mnist.npz\n",
      "11490434/11490434 [==============================] - 1s 0us/step\n"
     ]
    },
    {
     "name": "stderr",
     "output_type": "stream",
     "text": [
      "2024-10-23 09:42:50.775039: I tensorflow/core/common_runtime/gpu/gpu_device.cc:1639] Created device /job:localhost/replica:0/task:0/device:GPU:0 with 38445 MB memory:  -> device: 0, name: NVIDIA A100-SXM4-40GB, pci bus id: 0000:bd:00.0, compute capability: 8.0\n"
     ]
    },
    {
     "name": "stdout",
     "output_type": "stream",
     "text": [
      "Epoch 1/5\n"
     ]
    },
    {
     "name": "stderr",
     "output_type": "stream",
     "text": [
      "2024-10-23 09:42:52.580973: I tensorflow/compiler/xla/stream_executor/cuda/cuda_dnn.cc:432] Loaded cuDNN version 8700\n",
      "2024-10-23 09:42:52.781334: I tensorflow/compiler/xla/stream_executor/cuda/cuda_blas.cc:606] TensorFloat-32 will be used for the matrix multiplication. This will only be logged once.\n",
      "2024-10-23 09:42:53.000092: I tensorflow/compiler/xla/service/service.cc:168] XLA service 0x9830190 initialized for platform CUDA (this does not guarantee that XLA will be used). Devices:\n",
      "2024-10-23 09:42:53.000142: I tensorflow/compiler/xla/service/service.cc:176]   StreamExecutor device (0): NVIDIA A100-SXM4-40GB, Compute Capability 8.0\n",
      "2024-10-23 09:42:53.004324: I tensorflow/compiler/mlir/tensorflow/utils/dump_mlir_util.cc:255] disabling MLIR crash reproducer, set env var `MLIR_CRASH_REPRODUCER_DIRECTORY` to enable.\n",
      "2024-10-23 09:42:53.126526: I ./tensorflow/compiler/jit/device_compiler.h:186] Compiled cluster using XLA!  This line is logged at most once for the lifetime of the process.\n"
     ]
    },
    {
     "name": "stdout",
     "output_type": "stream",
     "text": [
      "844/844 [==============================] - 5s 3ms/step - loss: 0.1717 - accuracy: 0.9466 - val_loss: 0.0506 - val_accuracy: 0.9860\n",
      "Epoch 2/5\n",
      "844/844 [==============================] - 2s 3ms/step - loss: 0.0492 - accuracy: 0.9847 - val_loss: 0.0360 - val_accuracy: 0.9890\n",
      "Epoch 3/5\n",
      "844/844 [==============================] - 2s 3ms/step - loss: 0.0343 - accuracy: 0.9893 - val_loss: 0.0325 - val_accuracy: 0.9908\n",
      "Epoch 4/5\n",
      "844/844 [==============================] - 2s 3ms/step - loss: 0.0252 - accuracy: 0.9919 - val_loss: 0.0265 - val_accuracy: 0.9923\n",
      "Epoch 5/5\n",
      "844/844 [==============================] - 2s 3ms/step - loss: 0.0214 - accuracy: 0.9931 - val_loss: 0.0327 - val_accuracy: 0.9905\n",
      "313/313 [==============================] - 1s 2ms/step - loss: 0.0287 - accuracy: 0.9909\n",
      "Test accuracy: 0.9908999800682068\n"
     ]
    }
   ],
   "source": [
    "import tensorflow as tf\n",
    "from tensorflow.keras import layers, models\n",
    "from tensorflow.keras.datasets import mnist\n",
    "from tensorflow.keras.utils import to_categorical\n",
    "from tensor_projection_layer import TensorProjectionLayer  # Import the custom TensorProjectionLayer\n",
    "\n",
    "# Load the dataset\n",
    "(train_images, train_labels), (test_images, test_labels) = mnist.load_data()\n",
    "\n",
    "# Preprocess the data\n",
    "train_images = train_images.reshape((60000, 28, 28, 1)).astype('float32') / 255\n",
    "test_images = test_images.reshape((10000, 28, 28, 1)).astype('float32') / 255\n",
    "\n",
    "train_labels = to_categorical(train_labels)\n",
    "test_labels = to_categorical(test_labels)\n",
    "\n",
    "# Build the model\n",
    "model = models.Sequential()\n",
    "# First convolutional layer with 32 filters\n",
    "model.add(layers.Conv2D(32, (3, 3), activation='relu', padding='same', input_shape=(28, 28, 1)))\n",
    "model.add(layers.MaxPooling2D((2, 2)))  # First max pooling\n",
    "\n",
    "# Second convolutional layer with 64 filters\n",
    "model.add(layers.Conv2D(64, (3, 3), activation='relu', padding='same'))\n",
    "model.add(layers.MaxPooling2D((2, 2)))  # Second max pooling\n",
    "\n",
    "# Third convolutional layer with 64 filters\n",
    "model.add(layers.Conv2D(64, (3, 3), activation='relu', padding='same'))\n",
    "\n",
    "# Replace the final MaxPooling layer with TensorProjectionLayer (q1, q2, q3 can be adjusted as needed)\n",
    "model.add(TensorProjectionLayer(q1=7, q2=7, q3=64, regularization='None'))\n",
    "\n",
    "# Flatten the output and add Dense layers\n",
    "model.add(layers.Flatten())\n",
    "model.add(layers.Dense(64, activation='relu'))  # Fully connected layer\n",
    "model.add(layers.Dense(10, activation='softmax'))  # Output layer for 10 classes\n",
    "\n",
    "# Compile the model\n",
    "model.compile(optimizer='adam',\n",
    "              loss='categorical_crossentropy',\n",
    "              metrics=['accuracy'])\n",
    "\n",
    "# Train the model\n",
    "model.fit(train_images, train_labels, epochs=5, batch_size=64, validation_split=0.1)\n",
    "\n",
    "# Evaluate the model on the test data\n",
    "test_loss, test_acc = model.evaluate(test_images, test_labels)\n",
    "\n",
    "print(f\"Test accuracy: {test_acc}\")"
   ]
  },
  {
   "cell_type": "code",
   "execution_count": null,
   "id": "e15e962c",
   "metadata": {},
   "outputs": [],
   "source": []
  }
 ],
 "metadata": {
  "kernelspec": {
   "display_name": "Python 3 (ipykernel)",
   "language": "python",
   "name": "python3"
  },
  "language_info": {
   "codemirror_mode": {
    "name": "ipython",
    "version": 3
   },
   "file_extension": ".py",
   "mimetype": "text/x-python",
   "name": "python",
   "nbconvert_exporter": "python",
   "pygments_lexer": "ipython3",
   "version": "3.8.10"
  }
 },
 "nbformat": 4,
 "nbformat_minor": 5
}
