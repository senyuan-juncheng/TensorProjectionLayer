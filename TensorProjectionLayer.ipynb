{
 "cells": [
  {
   "cell_type": "code",
   "execution_count": 1,
   "metadata": {},
   "outputs": [],
   "source": [
    "import os;\n",
    "os.environ['KMP_DUPLICATE_LIB_OK']='True';"
   ]
  },
  {
   "cell_type": "code",
   "execution_count": 2,
   "metadata": {},
   "outputs": [],
   "source": [
    "import tensorflow as tf;\n",
    "import numpy as np;\n",
    "import json;\n",
    "import matplotlib.pyplot as plt;\n",
    "import pandas as pd;"
   ]
  },
  {
   "cell_type": "code",
   "execution_count": 3,
   "metadata": {},
   "outputs": [],
   "source": [
    "class TensorProjectionLayer(tf.keras.layers.Layer):\n",
    "    def __init__(self, q1,q2,q3, regularization=False, rate=10**-3,**kwargs):\n",
    "        self.q1 = int(q1);\n",
    "        self.q2 = int(q2);\n",
    "        self.q3 = int(q3);\n",
    "        self.e1 = 10**-6;\n",
    "        self.e2 = 10**-6;\n",
    "        self.e3 = 10**-6;\n",
    "        self.regularization = regularization; # regularizer\n",
    "        self.rate = rate; # regularization coefficient\n",
    "        super(TensorProjectionLayer, self).__init__(**kwargs);\n",
    "    \n",
    "    def compute_output_shape(self, input_shape):\n",
    "        return (input_shape[0], self.q1, self.q2, self.q3);\n",
    "    \n",
    "    \n",
    "    def build(self, input_shape):\n",
    "        self.p1 = int(input_shape[1]);\n",
    "        self.p2 = int(input_shape[2]);\n",
    "        self.p3 = int(input_shape[3]);\n",
    "        \n",
    "        if(self.q1 < self.p1):\n",
    "            self.W1 = self.add_weight(\"W1\",shape=(self.p1, self.q1),initializer='normal', trainable=True);\n",
    "        if(self.q2 < self.p2):\n",
    "            self.W2 = self.add_weight(\"W2\",shape=(self.p2, self.q2),initializer='normal', trainable=True);\n",
    "        if(self.q3 < self.p3):\n",
    "            self.W3 = self.add_weight(\"W3\",shape=(self.p3, self.q3),initializer='normal', trainable=True);\n",
    "            \n",
    "        super(TensorProjectionLayer, self).build(input_shape);\n",
    "\n",
    "    # suppose that T: n x t1 x t2 x t3\n",
    "    # k=1,2,3\n",
    "    def kmode_product(self, T, A, k):\n",
    "\n",
    "        # number of the observations\n",
    "        n  = tf.shape(T)[0];\n",
    "        t1 = tf.shape(T)[1];\n",
    "        t2 = tf.shape(T)[2];\n",
    "        t3 = tf.shape(T)[3];\n",
    "        uk = tf.shape(A)[0];\n",
    "        \n",
    "        # Compute the size of the output-tensor\n",
    "        if k == 1:\n",
    "            new_shape = [n, uk, t2, t3];\n",
    "        elif k == 2:\n",
    "            new_shape = [n, t1, uk, t3];\n",
    "        elif k == 3:\n",
    "            new_shape = [n, t1, t2, uk];\n",
    "        \n",
    "        # Compute T xk A\n",
    "        A = tf.expand_dims(A, 0);\n",
    "        An =  tf.tile(A, [n, 1, 1]);\n",
    "        Tk = self.unfold(T,k);\n",
    "        ATk = tf.linalg.matmul(An, Tk);\n",
    "        TxkA = self.fold(ATk, k, new_shape);\n",
    "        return TxkA;\n",
    "    \n",
    "    def fold(self, Tk, k, new_shape):\n",
    "        \n",
    "        # this is Tensorly-version\n",
    "        \n",
    "        a = new_shape;\n",
    "        \n",
    "        if k == 1:\n",
    "            reshape_order =  [0,1,2,3];\n",
    "            permute_order = [0,1,2,3];\n",
    "        elif k ==2:\n",
    "            reshape_order =  [0,2,1,3];\n",
    "            permute_order = [0,2,1,3];\n",
    "        elif k == 3:\n",
    "            reshape_order =  [0,3,1,2];\n",
    "            permute_order = [0,2,3,1];\n",
    "        \n",
    "        new_shape = [a[reshape_order[0]], a[reshape_order[1]], a[reshape_order[2]], a[reshape_order[3]]];\n",
    "        \n",
    "        T_ = tf.reshape(Tk, new_shape);\n",
    "        T = tf.transpose(T_, perm=permute_order);\n",
    "        return T;\n",
    "  \n",
    "    def unfold(self, T, k):\n",
    "        n  =  tf.shape(T)[0];\n",
    "        t1 = tf.shape(T)[1];\n",
    "        t2 = tf.shape(T)[2];\n",
    "        t3 = tf.shape(T)[3];\n",
    "        \n",
    "        if k == 1:\n",
    "            new_shape = [n, t1,t2*t3];\n",
    "            A = T;\n",
    "        elif k ==2:\n",
    "            new_shape = [n, t2,t3*t1];\n",
    "            A = tf.transpose(T, perm=[0,2,1,3]);\n",
    "        elif k ==3:\n",
    "            new_shape = [n, t3,t1*t2];\n",
    "            A = tf.transpose(T, perm=[0,3,1,2]);\n",
    "        \n",
    "        Tk = tf.reshape(A,new_shape);\n",
    "        \n",
    "        return Tk;\n",
    "\n",
    "    def call(self, X):\n",
    "        n = tf.shape(X)[0];\n",
    "        \n",
    "        if self.q1 < self.p1:\n",
    "            Iq1 = tf.eye(self.q1);\n",
    "            W1T = tf.transpose(self.W1, perm=[1,0]);\n",
    "            M1 = tf.math.add(tf.linalg.matmul(W1T,self.W1), Iq1 * self.e1);\n",
    "            sqrtM1 = tf.linalg.sqrtm(M1);\n",
    "            G1 = tf.linalg.inv(sqrtM1);\n",
    "            U1 = tf.linalg.matmul(self.W1, G1); # p1 x q1\n",
    "            U1T = tf.transpose(U1, perm=[1,0]); # q1 x p1\n",
    "        \n",
    "        if self.q2 < self.p2:\n",
    "            Iq2 = tf.eye(self.q2);\n",
    "            W2T = tf.transpose(self.W2, perm=[1,0]);\n",
    "            M2 = tf.math.add(tf.linalg.matmul(W2T,self.W2), Iq2 * self.e2);\n",
    "            sqrtM2 = tf.linalg.sqrtm(M2);\n",
    "            G2 = tf.linalg.inv(sqrtM2);\n",
    "            U2 = tf.linalg.matmul(self.W2, G2); # p2 x q2\n",
    "            U2T = tf.transpose(U2, perm=[1,0]); # q2 x p2\n",
    "            \n",
    "        if self.q3 < self.p3:\n",
    "            Iq3 = tf.eye(self.q3);\n",
    "            W3T = tf.transpose(self.W3, perm=[1,0]);\n",
    "            M3 = tf.math.add(tf.linalg.matmul(W3T,self.W3), Iq3 * self.e3);\n",
    "            sqrtM3 = tf.linalg.sqrtm(M3);\n",
    "            G3 = tf.linalg.inv(sqrtM3);\n",
    "            U3 = tf.linalg.matmul(self.W3, G3); # p3 x q3\n",
    "            U3T = tf.transpose(U3, perm=[1,0]); # q3 x p3\n",
    "\n",
    "    \n",
    "        Z = X;\n",
    "        \n",
    "        if self.q1 < self.p1:\n",
    "            Z = self.kmode_product(Z, U1T, 1);\n",
    "        if self.q2 < self.p2:\n",
    "            Z = self.kmode_product(Z, U2T, 2);\n",
    "        if self.q3 < self.p3:\n",
    "            Z = self.kmode_product(Z, U3T, 3);\n",
    "            \n",
    "        # This is necessary. But I don't know why...\n",
    "        Z = tf.reshape(Z, [n,self.q1,self.q2,self.q3]);\n",
    "        \n",
    "        # compute reconstruction error\n",
    "        if self.regularization == True:\n",
    "            X_ = Z;\n",
    "            if self.q1 < self.p1:\n",
    "                X_ = self.kmode_product(X_, U1, 1);\n",
    "            if self.q2 < self.p2:\n",
    "                X_ = self.kmode_product(X_, U2, 2);\n",
    "            if self.q3 < self.p3:\n",
    "                X_ = self.kmode_product(X_, U3, 3);\n",
    "            #X_ = tf.reshape(X_, [n,self.p1, self.p2, self.p3]);\n",
    "            self.add_loss(self.rate *tf.math.reduce_sum(tf.math.squared_difference(X , X_)), True);\n",
    "            \n",
    "        return Z;"
   ]
  },
  {
   "cell_type": "code",
   "execution_count": 5,
   "metadata": {},
   "outputs": [
    {
     "name": "stdout",
     "output_type": "stream",
     "text": [
      "60000 train samples\n",
      "10000 test samples\n"
     ]
    }
   ],
   "source": [
    "batch_size = 100;\n",
    "num_classes = 10;\n",
    "epochs = 10;\n",
    "# prepare data\n",
    "(x_train, y_train), (x_test, y_test) = tf.keras.datasets.mnist.load_data();\n",
    "\n",
    "img_rows, img_cols = 28, 28\n",
    "\n",
    "# 場合分け\n",
    "if tf.keras.backend.image_data_format() == 'channels_first':\n",
    "    x_train = x_train.reshape(x_train.shape[0], 1, img_rows, img_cols)\n",
    "    x_test = x_test.reshape(x_test.shape[0], 1, img_rows, img_cols)\n",
    "    input_shape = (1, img_rows, img_cols)\n",
    "else:\n",
    "    x_train = x_train.reshape(x_train.shape[0], img_rows, img_cols, 1)\n",
    "    x_test = x_test.reshape(x_test.shape[0], img_rows, img_cols, 1)\n",
    "    input_shape = (img_rows, img_cols, 1)\n",
    "\n",
    "x_train = x_train.astype('float32')   # int型をfloat32型に変換\n",
    "x_test = x_test.astype('float32')\n",
    "x_train /= 255                        # [0-255]の値を[0.0-1.0]に変換\n",
    "x_test /= 255\n",
    "print(x_train.shape[0], 'train samples');\n",
    "print(x_test.shape[0], 'test samples');\n",
    "y_train = tf.keras.utils.to_categorical(y_train, num_classes)\n",
    "y_test = tf.keras.utils.to_categorical(y_test, num_classes)"
   ]
  },
  {
   "cell_type": "code",
   "execution_count": 13,
   "metadata": {
    "scrolled": false
   },
   "outputs": [],
   "source": [
    "### TensorProjection Layer ###\n",
    "model = tf.keras.Sequential()\n",
    "model.add(tf.keras.layers.Conv2D(32, kernel_size=(3,3),strides=1, padding='same',activation='relu', input_shape=input_shape));\n",
    "model.add(tf.keras.layers.AveragePooling2D((2,2)))\n",
    "#model.add(TensorProjectionLayer(14, 14, 16, tf.keras.activations.linear, False)) # （28，28，64） ---> (6,6,8)\n",
    "#model.add(tf.keras.layers.Dropout(0.5));\n",
    "\n",
    "model.add(tf.keras.layers.Conv2D(16, kernel_size=(3,3),strides=1, padding='same',activation='relu'));\n",
    "#model.add(tf.keras.layers.AveragePooling2D((2,2)))\n",
    "model.add(TensorProjectionLayer(9, 9, 9, regularization=True, rate=0.025)) # （28，28，64） ---> (6,6,8)\n",
    "#model.add(tf.keras.layers.Dropout(0.5));\n",
    "\n",
    "model.add(tf.keras.layers.Flatten())\n",
    "model.add(tf.keras.layers.Dense(160, activation='relu'))\n",
    "#model.add(tf.keras.layers.Dropout(0.5));\n",
    "model.add(tf.keras.layers.Dense(num_classes, activation='softmax'))\n",
    "model.compile(loss=tf.keras.losses.categorical_crossentropy, optimizer=tf.keras.optimizers.RMSprop(), metrics=['accuracy'])\n",
    "\n"
   ]
  },
  {
   "cell_type": "code",
   "execution_count": 15,
   "metadata": {},
   "outputs": [
    {
     "name": "stdout",
     "output_type": "stream",
     "text": [
      "Train on 60000 samples, validate on 10000 samples\n",
      "Epoch 1/10\n",
      "60000/60000 [==============================] - 24s 405us/sample - loss: 0.0462 - accuracy: 0.9875 - val_loss: 0.0523 - val_accuracy: 0.9840\n",
      "Epoch 2/10\n",
      "60000/60000 [==============================] - 25s 413us/sample - loss: 0.0432 - accuracy: 0.9883 - val_loss: 0.0476 - val_accuracy: 0.9873\n",
      "Epoch 3/10\n",
      "60000/60000 [==============================] - 26s 429us/sample - loss: 0.0406 - accuracy: 0.9893 - val_loss: 0.0459 - val_accuracy: 0.9868\n",
      "Epoch 4/10\n",
      "60000/60000 [==============================] - 26s 429us/sample - loss: 0.0389 - accuracy: 0.9890 - val_loss: 0.0504 - val_accuracy: 0.9856\n",
      "Epoch 5/10\n",
      "60000/60000 [==============================] - 25s 413us/sample - loss: 0.0369 - accuracy: 0.9900 - val_loss: 0.0453 - val_accuracy: 0.9868\n",
      "Epoch 6/10\n",
      "60000/60000 [==============================] - 26s 440us/sample - loss: 0.0354 - accuracy: 0.9900 - val_loss: 0.0467 - val_accuracy: 0.9868\n",
      "Epoch 7/10\n",
      "60000/60000 [==============================] - 25s 420us/sample - loss: 0.0345 - accuracy: 0.9910 - val_loss: 0.0384 - val_accuracy: 0.9887\n",
      "Epoch 8/10\n",
      "60000/60000 [==============================] - 26s 428us/sample - loss: 0.0321 - accuracy: 0.9916 - val_loss: 0.0417 - val_accuracy: 0.9880\n",
      "Epoch 9/10\n",
      "60000/60000 [==============================] - 25s 424us/sample - loss: 0.0303 - accuracy: 0.9920 - val_loss: 0.0443 - val_accuracy: 0.9875\n",
      "Epoch 10/10\n",
      "60000/60000 [==============================] - 25s 417us/sample - loss: 0.0301 - accuracy: 0.9919 - val_loss: 0.0395 - val_accuracy: 0.9882\n",
      "Test loss: 0.03675373222874478\n",
      "Test accuracy: 0.9882\n"
     ]
    }
   ],
   "source": [
    "# fit\n",
    "history = model.fit(x_train, y_train, batch_size=batch_size, epochs=epochs, verbose=1, validation_data=(x_test, y_test));\n",
    "score = model.evaluate(x_test, y_test, verbose=0);\n",
    "print('Test loss:', score[0]);\n",
    "print('Test accuracy:', score[1]);\n",
    "model.save_weights('tensor-projection-layer_weights.h5');\n",
    "\n",
    "# load from trained model\n",
    "#model.load_weights('tensor-projection-layer_weights.h5');\n",
    "\n"
   ]
  },
  {
   "cell_type": "code",
   "execution_count": 124,
   "metadata": {},
   "outputs": [],
   "source": [
    "# save history\n",
    "history_json = pd.DataFrame(history.history);\n",
    "with open('history.json', 'w') as f:\n",
    "     history_json.to_json(f);"
   ]
  },
  {
   "cell_type": "code",
   "execution_count": 16,
   "metadata": {},
   "outputs": [
    {
     "data": {
      "image/png": "[encoded data removed]",
      "text/plain": [
       "<Figure size 432x288 with 1 Axes>"
      ]
     },
     "metadata": {
      "needs_background": "light"
     },
     "output_type": "display_data"
    },
    {
     "data": {
      "image/png": "[encoded data removed]",
      "text/plain": [
       "<Figure size 432x288 with 1 Axes>"
      ]
     },
     "metadata": {
      "needs_background": "light"
     },
     "output_type": "display_data"
    }
   ],
   "source": [
    "# Plot training & validation accuracy values\n",
    "plt.plot(history.history['accuracy'])\n",
    "plt.plot(history.history['val_accuracy'])\n",
    "plt.title('Model accuracy')\n",
    "plt.ylabel('Accuracy')\n",
    "plt.xlabel('Epoch')\n",
    "plt.legend(['Train', 'Test'], loc='upper left')\n",
    "plt.savefig('accuracy.png');\n",
    "plt.show()\n",
    "\n",
    "# Plot training & validation loss values\n",
    "plt.plot(history.history['loss'])\n",
    "plt.plot(history.history['val_loss'])\n",
    "plt.title('Model loss')\n",
    "plt.ylabel('Loss')\n",
    "plt.xlabel('Epoch')\n",
    "plt.legend(['Train', 'Test'], loc='upper left')\n",
    "plt.savefig('loss.png');\n",
    "plt.show()\n"
   ]
  },
  {
   "cell_type": "code",
   "execution_count": 17,
   "metadata": {},
   "outputs": [
    {
     "data": {
      "text/plain": [
       "{'loss': [0.6105310989419619, 0.4036350949356953],\n",
       " 'accuracy': [0.77735, 0.8534833],\n",
       " 'val_loss': [0.42014373421669005, 0.3631933230161667],\n",
       " 'val_accuracy': [0.8449, 0.8685]}"
      ]
     },
     "execution_count": 17,
     "metadata": {},
     "output_type": "execute_result"
    }
   ],
   "source": []
  },
  {
   "cell_type": "raw",
   "metadata": {},
   "source": []
  },
  {
   "cell_type": "code",
   "execution_count": 136,
   "metadata": {},
   "outputs": [
    {
     "name": "stdout",
     "output_type": "stream",
     "text": [
      "Model: \"sequential_28\"\n",
      "_________________________________________________________________\n",
      "Layer (type)                 Output Shape              Param #   \n",
      "=================================================================\n",
      "conv2d_56 (Conv2D)           (None, 28, 28, 16)        160       \n",
      "_________________________________________________________________\n",
      "average_pooling2d_28 (Averag (None, 14, 14, 16)        0         \n",
      "_________________________________________________________________\n",
      "conv2d_57 (Conv2D)           (None, 14, 14, 16)        2320      \n",
      "_________________________________________________________________\n",
      "tensor_projection_layer_28 ( (None, 7, 7, 8)           324       \n",
      "_________________________________________________________________\n",
      "flatten_25 (Flatten)         (None, 392)               0         \n",
      "_________________________________________________________________\n",
      "dense_50 (Dense)             (None, 160)               62880     \n",
      "_________________________________________________________________\n",
      "dense_51 (Dense)             (None, 10)                1610      \n",
      "=================================================================\n",
      "Total params: 67,294\n",
      "Trainable params: 67,294\n",
      "Non-trainable params: 0\n",
      "_________________________________________________________________\n"
     ]
    }
   ],
   "source": [
    "model.summary();"
   ]
  },
  {
   "cell_type": "code",
   "execution_count": 137,
   "metadata": {},
   "outputs": [],
   "source": [
    "#### Start Visualization ###"
   ]
  },
  {
   "cell_type": "code",
   "execution_count": null,
   "metadata": {},
   "outputs": [],
   "source": []
  },
  {
   "cell_type": "code",
   "execution_count": 138,
   "metadata": {},
   "outputs": [],
   "source": [
    "import tensorly as tl;\n",
    "import numpy as np;\n",
    "import scipy as sp;\n",
    "import matplotlib.pyplot;"
   ]
  },
  {
   "cell_type": "code",
   "execution_count": 140,
   "metadata": {},
   "outputs": [
    {
     "name": "stdout",
     "output_type": "stream",
     "text": [
      "(3, 3, 1, 16)\n",
      "(16,)\n",
      "(14, 7)\n",
      "(14, 7)\n",
      "(16, 8)\n"
     ]
    }
   ],
   "source": [
    "# Visualization\n",
    "tensor_projection_layer_name = 'tensor_projection_layer_28';\n",
    "conv2d_layer_name = 'conv2d_57';\n",
    "\n",
    "# obtain layer\n",
    "tensor_projection_layer = tf.keras.Model(inputs=model.input, outputs=model.get_layer(tensor_projection_layer_name).output)\n",
    "conv2d_layer = tf.keras.Model(inputs=model.input, outputs=model.get_layer(conv2d_layer_name).output)\n",
    "\n",
    "# compute outputs of projection_layer\n",
    "Z = tensor_projection_layer.predict(x_test[0:100]);\n",
    "\n",
    "# compute outpus of conv2d layer\n",
    "X = conv2d_layer.predict(x_test[0:100]);\n",
    "\n",
    "# load weights of projection layer\n",
    "tensor_projection_weights = tensor_projection_layer.get_weights();\n",
    "W1 = tensor_projection_weights[4];\n",
    "W2 = tensor_projection_weights[5];\n",
    "W3 = tensor_projection_weights[6];\n",
    "print(tensor_projection_weights[0].shape) # parameter of the previous conv2D layer\n",
    "print(tensor_projection_weights[1].shape) # parameter of the previsou conv2D layer\n",
    "print(tensor_projection_weights[4].shape) # W1\n",
    "print(tensor_projection_weights[5].shape) # W2\n",
    "print(tensor_projection_weights[6].shape) # W3"
   ]
  },
  {
   "cell_type": "code",
   "execution_count": 141,
   "metadata": {},
   "outputs": [],
   "source": [
    "# compute\n",
    "def tensor_restore(Z,W1,W2,W3):\n",
    "    # obtain n,p1,p2,q1,q2:\n",
    "    q1 = Z.shape[1];\n",
    "    q2 = Z.shape[2];\n",
    "    q3 = Z.shape[3];\n",
    "    \n",
    "    p1 = W1.shape[0];\n",
    "    p2 = W2.shape[0];\n",
    "    p3 = W3.shape[0];\n",
    "    \n",
    "    Iq1 = np.eye(q1);\n",
    "    Iq2 = np.eye(q2);\n",
    "    Iq3 = np.eye(q3);\n",
    "    \n",
    "\n",
    "    W1T = np.transpose(W1,(1,0)); # [p1,q1] -> [q1,p1]\n",
    "    W2T = np.transpose(W2,(1,0)); # [p2,q2] -> [q2,p2]\n",
    "    W3T = np.transpose(W3,(1,0)); # [p3,q3] -> [q3,p3]\n",
    "    \n",
    "    M1 = np.matmul(W1T,W1) + 0.01*Iq1;\n",
    "    M2 = np.matmul(W2T,W2) + 0.01*Iq2;\n",
    "    M3 = np.matmul(W3T,W3) + 0.01*Iq3;\n",
    "    \n",
    "    G1 = sp.linalg.inv(sp.linalg.sqrtm(M1));\n",
    "    G2 = sp.linalg.inv(sp.linalg.sqrtm(M2));\n",
    "    G3 = sp.linalg.inv(sp.linalg.sqrtm(M3));\n",
    "    \n",
    "    U1 = np.matmul(W1,G1); # [p1,q1]\n",
    "    U2 = np.matmul(W2,G2); # [p2,q2]\n",
    "    U3 = np.matmul(W3,G3); # [p3,q3]\n",
    "    \n",
    "    return tl.tenalg.multi_mode_dot(Z, (U1,U2,U3), modes=(1,2,3));    "
   ]
  },
  {
   "cell_type": "code",
   "execution_count": 142,
   "metadata": {},
   "outputs": [],
   "source": [
    "X_tilde = tensor_restore(Z,W1,W2,W3);"
   ]
  },
  {
   "cell_type": "code",
   "execution_count": 148,
   "metadata": {},
   "outputs": [
    {
     "data": {
      "image/png": "[encoded data removed]",
      "text/plain": [
       "<Figure size 1008x1008 with 8 Axes>"
      ]
     },
     "metadata": {
      "needs_background": "light"
     },
     "output_type": "display_data"
    }
   ],
   "source": [
    "num = 2; # observation\n",
    "fig = matplotlib.pyplot.figure(figsize=(14, 14))\n",
    "for c in range(8):\n",
    "    ax = fig.add_subplot(8, 4, c+1)\n",
    "    ax.imshow(X_tilde[num,:,:,c])\n",
    "    ax.set_axis_off()\n",
    "    ax.set_title(\"channel={}\".format(c))\n",
    "matplotlib.pyplot.show();"
   ]
  },
  {
   "cell_type": "code",
   "execution_count": 144,
   "metadata": {},
   "outputs": [
    {
     "data": {
      "image/png": "[encoded data removed]",
      "text/plain": [
       "<Figure size 1008x1008 with 8 Axes>"
      ]
     },
     "metadata": {
      "needs_background": "light"
     },
     "output_type": "display_data"
    }
   ],
   "source": [
    "# show conv2d output\n",
    "num = 20; # observation\n",
    "fig = matplotlib.pyplot.figure(figsize=(14, 14))\n",
    "for c in range(8):\n",
    "    ax = fig.add_subplot(8, 4, c+1)\n",
    "    ax.imshow(X[num,:,:,c]) # cmap='gray'\n",
    "    ax.set_axis_off()\n",
    "    ax.set_title(\"channel={}\".format(c))\n",
    "matplotlib.pyplot.show();"
   ]
  },
  {
   "cell_type": "code",
   "execution_count": 55,
   "metadata": {},
   "outputs": [],
   "source": [
    "# compute squared error\n",
    "D = X - X_tilde;\n",
    "num_obs = 100;\n",
    "num_ch  = 8;\n",
    "loss = np.zeros((num_obs,num_ch),dtype=np.float32);\n",
    "for i in range(num_obs):\n",
    "    for j in range(num_ch):\n",
    "        diff_ij = D[i,:,:,j];\n",
    "        loss[i,j] = np.sum(np.power(diff_ij.flatten('F'),2));"
   ]
  },
  {
   "cell_type": "code",
   "execution_count": 56,
   "metadata": {},
   "outputs": [
    {
     "name": "stdout",
     "output_type": "stream",
     "text": [
      "Average Loss : sum of loss / (num obs * num ch)\n"
     ]
    },
    {
     "data": {
      "text/plain": [
       "1.4797311"
      ]
     },
     "execution_count": 56,
     "metadata": {},
     "output_type": "execute_result"
    }
   ],
   "source": [
    "print(\"Average Loss : sum of loss / (num obs * num ch)\");\n",
    "np.average(loss)"
   ]
  },
  {
   "cell_type": "code",
   "execution_count": null,
   "metadata": {},
   "outputs": [],
   "source": []
  }
 ],
 "metadata": {
  "kernelspec": {
   "display_name": "Python 3",
   "language": "python",
   "name": "python3"
  },
  "language_info": {
   "codemirror_mode": {
    "name": "ipython",
    "version": 3
   },
   "file_extension": ".py",
   "mimetype": "text/x-python",
   "name": "python",
   "nbconvert_exporter": "python",
   "pygments_lexer": "ipython3",
   "version": "3.7.5"
  }
 },
 "nbformat": 4,
 "nbformat_minor": 2
}
