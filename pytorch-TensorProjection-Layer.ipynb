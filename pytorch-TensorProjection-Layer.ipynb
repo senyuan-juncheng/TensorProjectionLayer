{
 "cells": [
  {
   "cell_type": "code",
   "execution_count": 81,
   "id": "a46a4be9",
   "metadata": {},
   "outputs": [],
   "source": [
    "import torch\n",
    "import torch.nn as nn\n",
    "import torch.nn.functional as F\n",
    "import math\n",
    "from torchvision import datasets, transforms"
   ]
  },
  {
   "cell_type": "code",
   "execution_count": null,
   "id": "de145c9b",
   "metadata": {},
   "outputs": [],
   "source": [
    "# still test version"
   ]
  },
  {
   "cell_type": "code",
   "execution_count": 82,
   "id": "1f838fdb",
   "metadata": {},
   "outputs": [],
   "source": [
    "class TensorProjection(nn.Module):\n",
    "    \"\"\" Custom Linear layer but mimics a standard linear layer \"\"\"\n",
    "    def __init__(self,p1,p2,p3,q1,q2,q3):\n",
    "        super().__init__()\n",
    "        self.p1 = p1;\n",
    "        self.p2 = p2;\n",
    "        self.p3 = p3;\n",
    "        self.q1 = q1;\n",
    "        self.q2 = q2;\n",
    "        self.q3 = q3;\n",
    "        if(p1 != q1):\n",
    "            self.W1 = nn.Parameter(torch.Tensor(p1,q1))\n",
    "        if(p2 != q2):\n",
    "            self.W2 = nn.Parameter(torch.Tensor(p2,q2))\n",
    "        if(p3 != q3):\n",
    "            self.W3 = nn.Parameter(torch.Tensor(p3,q3))\n",
    "\n",
    "        # initialize weights and biases\n",
    "        nn.init.kaiming_uniform_(self.W1, a=math.sqrt(5)) # weight init\n",
    "        nn.init.kaiming_uniform_(self.W2, a=math.sqrt(5)) # weight init\n",
    "        nn.init.kaiming_uniform_(self.W3, a=math.sqrt(5)) # weight init\n",
    "        \n",
    "    \n",
    "    def sqrtm(self,A):\n",
    "        U,D,V = torch.linalg.svd(A)\n",
    "        return U @ torch.diag(torch.sqrt(D)) @ V\n",
    "    \n",
    "    def forward(self, x):\n",
    "        \n",
    "        n = x.shape[0]\n",
    "        z = x\n",
    "        e = 10**-6\n",
    "        \n",
    "        if(self.p1 != self.q1):\n",
    "            Iq1 = torch.eye(self.q1);\n",
    "            W1 = self.W1;\n",
    "            U1 = W1 @ torch.linalg.inv(self.sqrtm(torch.transpose(W1,1,0) @ W1 + e * Iq1));\n",
    "            U1T = torch.transpose(U1,1,0);\n",
    "            A = torch.unsqueeze(U1T,0)\n",
    "            A = torch.tile(A,[n,1,1])\n",
    "            z = torch.einsum('npqr,nsp->nsqr',z,A)\n",
    "        \n",
    "        if(self.p2 != self.q2):\n",
    "            Iq2 = torch.eye(self.q2);\n",
    "            W2 = self.W2;\n",
    "            U2 = W2 @ torch.linalg.inv(self.sqrtm(torch.transpose(W2,1,0) @ W2 + e * Iq2));\n",
    "            U2T = torch.transpose(U2,1,0);\n",
    "            B = torch.unsqueeze(U2T,0)\n",
    "            B = torch.tile(B,[n,1,1])\n",
    "            z = torch.einsum('npqr,nsq->npsr',z,B)\n",
    "            \n",
    "        if(self.p3 != self.q3):\n",
    "            Iq3 = torch.eye(self.q3);\n",
    "            W3 = self.W3;\n",
    "            U3 = W3 @ torch.linalg.inv(self.sqrtm(torch.transpose(W3,1,0) @ W3 + e * Iq3));\n",
    "            U3T = torch.transpose(U3,1,0);\n",
    "            C = torch.unsqueeze(U3T,0)\n",
    "            C = torch.tile(C,[n,1,1])\n",
    "            z = torch.einsum('npqr,nsr->npqs',z,C)\n",
    "            \n",
    "        \n",
    "        return z"
   ]
  },
  {
   "cell_type": "code",
   "execution_count": 83,
   "id": "15922b44",
   "metadata": {},
   "outputs": [],
   "source": [
    "# set hyperparameters\n",
    "num_epochs = 5 \n",
    "num_batch = 100 \n",
    "learning_rate = 0.001 \n",
    "image_size = 28*28\n",
    "\n",
    "# if possible to use cuda\n",
    "device = 'cuda' if torch.cuda.is_available() else 'cpu'"
   ]
  },
  {
   "cell_type": "code",
   "execution_count": 84,
   "id": "338e7df6",
   "metadata": {},
   "outputs": [],
   "source": [
    "# create data\n",
    "transform = transforms.Compose([\n",
    "    transforms.ToTensor()\n",
    "])\n",
    "# mnist\n",
    "# https://pytorch.org/vision/stable/generated/torchvision.datasets.MNIST.html#torchvision.datasets.MNIST\n",
    "# training\n",
    "train_dataset = datasets.MNIST(\n",
    "    './data',                \n",
    "    train = True,           \n",
    "    download = True,        \n",
    "    transform = transform   \n",
    "    )\n",
    "# valdidation\n",
    "test_dataset = datasets.MNIST(\n",
    "    './data', \n",
    "    train = False,\n",
    "    transform = transform\n",
    "    )\n",
    "\n",
    "# data loader \n",
    "train_dataloader = torch.utils.data.DataLoader(train_dataset, batch_size = num_batch, shuffle = True)\n",
    "test_dataloader = torch.utils.data.DataLoader(test_dataset, batch_size = num_batch, shuffle = True)"
   ]
  },
  {
   "cell_type": "code",
   "execution_count": 85,
   "id": "3f928c9d",
   "metadata": {},
   "outputs": [
    {
     "data": {
      "text/plain": [
       "Net(\n",
       "  (cnn1): Conv2d(1, 16, kernel_size=(5, 5), stride=(1, 1))\n",
       "  (relu1): ReLU()\n",
       "  (maxpool1): MaxPool2d(kernel_size=2, stride=2, padding=0, dilation=1, ceil_mode=False)\n",
       "  (cnn2): Conv2d(16, 32, kernel_size=(5, 5), stride=(1, 1))\n",
       "  (relu2): ReLU()\n",
       "  (tensorprojection): TensorProjection()\n",
       "  (fc1): Linear(in_features=160, out_features=10, bias=True)\n",
       ")"
      ]
     },
     "execution_count": 85,
     "metadata": {},
     "output_type": "execute_result"
    }
   ],
   "source": [
    "# define neural network\n",
    "class Net(nn.Module):\n",
    "    def __init__(self, input_size, output_size):\n",
    "        super(Net, self).__init__()\n",
    "        # 1st\n",
    "        self.cnn1 = nn.Conv2d(in_channels=1, out_channels=16, kernel_size=5, stride=1, padding=0) #output_shape=(16,24,24)\n",
    "        self.relu1 = nn.ReLU() # activation\n",
    "        self.maxpool1 = nn.MaxPool2d(kernel_size=2) #output_shape=(16,12,12)\n",
    "        # 2nd\n",
    "        self.cnn2 = nn.Conv2d(in_channels=16, out_channels=32, kernel_size=5, stride=1, padding=0) #output_shape=(32,8,8)\n",
    "        self.relu2 = nn.ReLU() # activation\n",
    "        self.tensorprojection = TensorProjection(32,8,8, 10,4,4) #output_shape=(10,4,4)\n",
    "        # Fully connected 1 ,#input_shape=(10*4*4)\n",
    "        self.fc1 = nn.Linear(10 * 4 * 4, 10)\n",
    "        \n",
    "    def forward(self, x):\n",
    "        x = self.cnn1(x)\n",
    "        x = self.relu1(x)\n",
    "        x = self.maxpool1(x)\n",
    "        x = self.cnn2(x)\n",
    "        x = self.relu2(x)\n",
    "        x = self.tensorprojection(x)\n",
    "        x = x.view(x.size(0), -1)\n",
    "        # Linear function (readout)\n",
    "        x = self.fc1(x)\n",
    "        return F.log_softmax(x, dim=1)\n",
    "\n",
    "# define a neural network\n",
    "model = Net(image_size, 10).to(device)\n",
    "\n",
    "# set loss function\n",
    "criterion = nn.CrossEntropyLoss() \n",
    "\n",
    "# optimize\n",
    "optimizer = torch.optim.Adam(model.parameters(), lr = learning_rate) \n",
    "\n",
    "# training\n",
    "model.train()"
   ]
  },
  {
   "cell_type": "code",
   "execution_count": 86,
   "id": "9168d37d",
   "metadata": {},
   "outputs": [
    {
     "name": "stdout",
     "output_type": "stream",
     "text": [
      "Epoch: 1/5, Loss: 0.3957036844889323\n",
      "Epoch: 2/5, Loss: 0.11463255564371745\n",
      "Epoch: 3/5, Loss: 0.07972813924153646\n",
      "Epoch: 4/5, Loss: 0.06644113540649414\n",
      "Epoch: 5/5, Loss: 0.05648375193277995\n"
     ]
    }
   ],
   "source": [
    "for epoch in range(num_epochs):\n",
    "    loss_sum = 0\n",
    "    \n",
    "    for inputs, labels in train_dataloader:\n",
    "        # if possible to use gpu\n",
    "        inputs = inputs.to(device)\n",
    "        labels = labels.to(device)\n",
    "\n",
    "        # initialize optimizer\n",
    "        optimizer.zero_grad()\n",
    "\n",
    "        # get outputs\n",
    "        #inputs = inputs.view(-1, image_size) \n",
    "        outputs = model(inputs)\n",
    "\n",
    "        # compute loss\n",
    "        loss = criterion(outputs, labels)\n",
    "        loss_sum += loss\n",
    "\n",
    "        # compute gradient\n",
    "        loss.backward()\n",
    "\n",
    "        # update model parameters\n",
    "        optimizer.step()\n",
    "\n",
    "    # show training status\n",
    "    print(f\"Epoch: {epoch+1}/{num_epochs}, Loss: {loss_sum.item() / len(train_dataloader)}\")\n",
    "\n",
    "    # save \n",
    "    torch.save(model.state_dict(), 'model_weights.pth')\n",
    "\n",
    "# evalation\n",
    "model.eval()\n",
    "\n",
    "loss_sum = 0\n",
    "correct = 0"
   ]
  },
  {
   "cell_type": "code",
   "execution_count": 87,
   "id": "62d60125",
   "metadata": {},
   "outputs": [
    {
     "name": "stdout",
     "output_type": "stream",
     "text": [
      "Loss: 0.04603756427764893, Accuracy: 98.52% (9852/10000)\n"
     ]
    }
   ],
   "source": [
    "with torch.no_grad():\n",
    "    for inputs, labels in test_dataloader:\n",
    "\n",
    "        # if possible to use gpu\n",
    "        inputs = inputs.to(device)\n",
    "        labels = labels.to(device)\n",
    "\n",
    "        # define outout\n",
    "        #inputs = inputs.view(-1, image_size) \n",
    "        outputs = model(inputs)\n",
    "\n",
    "        # compute loss\n",
    "        loss_sum += criterion(outputs, labels)\n",
    "\n",
    "        # prediction\n",
    "        pred = outputs.argmax(1)\n",
    "        # acc\n",
    "        correct += pred.eq(labels.view_as(pred)).sum().item()\n",
    "\n",
    "print(f\"Loss: {loss_sum.item() / len(test_dataloader)}, Accuracy: {100*correct/len(test_dataset)}% ({correct}/{len(test_dataset)})\")"
   ]
  },
  {
   "cell_type": "code",
   "execution_count": null,
   "id": "1d75a684",
   "metadata": {},
   "outputs": [],
   "source": []
  }
 ],
 "metadata": {
  "kernelspec": {
   "display_name": "Python 3 (ipykernel)",
   "language": "python",
   "name": "python3"
  },
  "language_info": {
   "codemirror_mode": {
    "name": "ipython",
    "version": 3
   },
   "file_extension": ".py",
   "mimetype": "text/x-python",
   "name": "python",
   "nbconvert_exporter": "python",
   "pygments_lexer": "ipython3",
   "version": "3.8.13"
  }
 },
 "nbformat": 4,
 "nbformat_minor": 5
}
